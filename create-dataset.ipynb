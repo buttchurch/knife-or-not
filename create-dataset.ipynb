{
 "cells": [
  {
   "cell_type": "markdown",
   "metadata": {},
   "source": [
    "# Creating an Image Dataset from scratch"
   ]
  },
  {
   "cell_type": "markdown",
   "metadata": {},
   "source": [
    "With the steps below, you can create a dataset from any images on the internet. I'm doing a knife classifier, but with a few simple code changes you can create your own dataset of any classes you like.\n",
    "\n",
    "You don't always have to create your own dataset to do machine learning– there are plenty of public datasets (check out [kaggle](https://www.kaggle.com/), for example) but for a custom task like classifying knives we'll need to create our own. All we need is Google Images and a few helpful Python scripts.\n",
    "\n",
    "*This is written in a [Jupyter Notebook](http://jupyter.org/), in Python. Don't have Python? Download it [here](https://anaconda.org/anaconda/python).*"
   ]
  },
  {
   "cell_type": "code",
   "execution_count": 143,
   "metadata": {},
   "outputs": [],
   "source": [
    "# libraries that manipulate and display image data.\n",
    "%reload_ext autoreload\n",
    "%autoreload 2\n",
    "%matplotlib inline\n",
    "\n",
    "import matplotlib.pyplot as plt\n",
    "import pandas as pd\n",
    "import numpy as np\n",
    "import os\n",
    "import shutil"
   ]
  },
  {
   "cell_type": "markdown",
   "metadata": {},
   "source": [
    "## Directory Structure"
   ]
  },
  {
   "cell_type": "markdown",
   "metadata": {},
   "source": [
    "What does the computer need to judge knives? We need positive examples (knives), negative examples (not knives), and a way to tell the computer which are which. \n",
    "\n",
    "One popular method is a **'PATH' structure**, which separates classes by folder. For knives, that simply means putting knives in one folder and 'not knives' in a second folder. That's all the labelling our data needs.\n",
    "\n",
    "You can have two classes or as many classes as you like– all you have to do is create a sub-folder for each class."
   ]
  },
  {
   "cell_type": "code",
   "execution_count": 144,
   "metadata": {},
   "outputs": [
    {
     "data": {
      "text/plain": [
       "['not_knife', 'knife']"
      ]
     },
     "execution_count": 144,
     "metadata": {},
     "output_type": "execute_result"
    }
   ],
   "source": [
    "# PATH establishes our working directory, the place where our dataset lives.\n",
    "PATH = \"data/knife-or-not/\"\n",
    "\n",
    "# Function to create a folder, if it doesn't exist already.\n",
    "def create_folder(location):\n",
    "    if not os.path.isdir(f'{PATH}{location}'):\n",
    "        os.makedirs(f'{PATH}{location}')\n",
    "\n",
    "# NOTE: Modify the list below to reflect your classes. You can add more: 'train/{your class}'\n",
    "training = ['train', 'train/knife', 'train/not_knife']\n",
    "\n",
    "for folder in training:\n",
    "    create_folder(folder)\n",
    "\n",
    "os.listdir(f'{PATH}train')"
   ]
  },
  {
   "cell_type": "markdown",
   "metadata": {},
   "source": [
    "From our main training dataset, we need to set aside a portion to periodically test our algorithm on unseen examples. This is called a **validation set** and without it, you really have no idea if your model is improving or not. So you really need one. Check out this [great article](http://www.fast.ai/2017/11/13/validation-sets/) to learn more about validation sets.\n",
    "\n",
    "Structurally our validation set works just like our training dataset, with a folder for each class. So ultimately, our dataset contains two data folders('train' and 'valid') with two subfolders in each ('knife' and 'not-knife')."
   ]
  },
  {
   "cell_type": "code",
   "execution_count": 145,
   "metadata": {},
   "outputs": [
    {
     "data": {
      "text/plain": [
       "['not_knife', 'knife']"
      ]
     },
     "execution_count": 145,
     "metadata": {},
     "output_type": "execute_result"
    }
   ],
   "source": [
    "# This should be the same structure as your training folders above.\n",
    "validation = ['valid', 'valid/knife', 'valid/not_knife']\n",
    "\n",
    "for folder in validation:\n",
    "    create_folder(folder)\n",
    "\n",
    "os.listdir(f'{PATH}valid')"
   ]
  },
  {
   "cell_type": "markdown",
   "metadata": {},
   "source": [
    "# Collecting Knife Data\n",
    "\n",
    "Now that we have our structure, it's time fill it with data. For knife images, we turn to Google Images and a nifty python [scraping script](https://github.com/hardikvasa/google-images-download). \n",
    "\n",
    "\n",
    "First, a bit of installing: open your terminal, navigate to your dataset location and type in the following. (*If you don't have a github account yet, go grab one and come back.*)\n",
    "```\n",
    "$ git clone https://github.com/hardikvasa/google-images-download.git\n",
    "$ cd google-images-download && sudo python setup.py install\n",
    "\n",
    "```\n",
    "\n",
    "### Easy, Small Dataset\n",
    "\n",
    "Just want a quick dataset to play with? Those two install lines are enough to get started. You can grab up to 100 images for each keyword, but you can add as many keyword arguments as you want. The more keywords, the bigger your dataset and the better your algorithm. Check out the author's [documentation](https://github.com/hardikvasa/google-images-download#examples) for call examples. \n",
    "\n",
    "This call below would grab 400 images."
   ]
  },
  {
   "cell_type": "code",
   "execution_count": 146,
   "metadata": {
    "collapsed": true
   },
   "outputs": [
    {
     "ename": "KeyboardInterrupt",
     "evalue": "",
     "output_type": "error",
     "traceback": [
      "\u001b[0;31m---------------------------------------------------------------------------\u001b[0m",
      "\u001b[0;31mKeyboardInterrupt\u001b[0m                         Traceback (most recent call last)",
      "\u001b[0;32m<ipython-input-146-c32aa431fa68>\u001b[0m in \u001b[0;36m<module>\u001b[0;34m()\u001b[0m\n\u001b[1;32m      2\u001b[0m \u001b[0;32mimport\u001b[0m \u001b[0msubprocess\u001b[0m\u001b[0;34m\u001b[0m\u001b[0m\n\u001b[1;32m      3\u001b[0m \u001b[0;32mfor\u001b[0m \u001b[0mkeyword\u001b[0m \u001b[0;32min\u001b[0m \u001b[0mknife_keywords\u001b[0m\u001b[0;34m:\u001b[0m\u001b[0;34m\u001b[0m\u001b[0m\n\u001b[0;32m----> 4\u001b[0;31m     \u001b[0msubprocess\u001b[0m\u001b[0;34m.\u001b[0m\u001b[0mcall\u001b[0m\u001b[0;34m(\u001b[0m\u001b[0;34m[\u001b[0m\u001b[0;34m\"googleimagesdownload\"\u001b[0m\u001b[0;34m,\u001b[0m \u001b[0;34m\"-fjpg\"\u001b[0m\u001b[0;34m,\u001b[0m\u001b[0;34m\"-k\"\u001b[0m\u001b[0;34m+\u001b[0m\u001b[0mkeyword\u001b[0m\u001b[0;34m,\u001b[0m \u001b[0;34m'-l100'\u001b[0m\u001b[0;34m,\u001b[0m \u001b[0;34m\"-odata/knife-or-not/knife\"\u001b[0m\u001b[0;34m]\u001b[0m\u001b[0;34m)\u001b[0m\u001b[0;34m\u001b[0m\u001b[0m\n\u001b[0m",
      "\u001b[0;32m/anaconda3/lib/python3.6/subprocess.py\u001b[0m in \u001b[0;36mcall\u001b[0;34m(timeout, *popenargs, **kwargs)\u001b[0m\n\u001b[1;32m    267\u001b[0m     \u001b[0;32mwith\u001b[0m \u001b[0mPopen\u001b[0m\u001b[0;34m(\u001b[0m\u001b[0;34m*\u001b[0m\u001b[0mpopenargs\u001b[0m\u001b[0;34m,\u001b[0m \u001b[0;34m**\u001b[0m\u001b[0mkwargs\u001b[0m\u001b[0;34m)\u001b[0m \u001b[0;32mas\u001b[0m \u001b[0mp\u001b[0m\u001b[0;34m:\u001b[0m\u001b[0;34m\u001b[0m\u001b[0m\n\u001b[1;32m    268\u001b[0m         \u001b[0;32mtry\u001b[0m\u001b[0;34m:\u001b[0m\u001b[0;34m\u001b[0m\u001b[0m\n\u001b[0;32m--> 269\u001b[0;31m             \u001b[0;32mreturn\u001b[0m \u001b[0mp\u001b[0m\u001b[0;34m.\u001b[0m\u001b[0mwait\u001b[0m\u001b[0;34m(\u001b[0m\u001b[0mtimeout\u001b[0m\u001b[0;34m=\u001b[0m\u001b[0mtimeout\u001b[0m\u001b[0;34m)\u001b[0m\u001b[0;34m\u001b[0m\u001b[0m\n\u001b[0m\u001b[1;32m    270\u001b[0m         \u001b[0;32mexcept\u001b[0m\u001b[0;34m:\u001b[0m\u001b[0;34m\u001b[0m\u001b[0m\n\u001b[1;32m    271\u001b[0m             \u001b[0mp\u001b[0m\u001b[0;34m.\u001b[0m\u001b[0mkill\u001b[0m\u001b[0;34m(\u001b[0m\u001b[0;34m)\u001b[0m\u001b[0;34m\u001b[0m\u001b[0m\n",
      "\u001b[0;32m/anaconda3/lib/python3.6/subprocess.py\u001b[0m in \u001b[0;36mwait\u001b[0;34m(self, timeout, endtime)\u001b[0m\n\u001b[1;32m   1455\u001b[0m                         \u001b[0;32mif\u001b[0m \u001b[0mself\u001b[0m\u001b[0;34m.\u001b[0m\u001b[0mreturncode\u001b[0m \u001b[0;32mis\u001b[0m \u001b[0;32mnot\u001b[0m \u001b[0;32mNone\u001b[0m\u001b[0;34m:\u001b[0m\u001b[0;34m\u001b[0m\u001b[0m\n\u001b[1;32m   1456\u001b[0m                             \u001b[0;32mbreak\u001b[0m  \u001b[0;31m# Another thread waited.\u001b[0m\u001b[0;34m\u001b[0m\u001b[0m\n\u001b[0;32m-> 1457\u001b[0;31m                         \u001b[0;34m(\u001b[0m\u001b[0mpid\u001b[0m\u001b[0;34m,\u001b[0m \u001b[0msts\u001b[0m\u001b[0;34m)\u001b[0m \u001b[0;34m=\u001b[0m \u001b[0mself\u001b[0m\u001b[0;34m.\u001b[0m\u001b[0m_try_wait\u001b[0m\u001b[0;34m(\u001b[0m\u001b[0;36m0\u001b[0m\u001b[0;34m)\u001b[0m\u001b[0;34m\u001b[0m\u001b[0m\n\u001b[0m\u001b[1;32m   1458\u001b[0m                         \u001b[0;31m# Check the pid and loop as waitpid has been known to\u001b[0m\u001b[0;34m\u001b[0m\u001b[0;34m\u001b[0m\u001b[0m\n\u001b[1;32m   1459\u001b[0m                         \u001b[0;31m# return 0 even without WNOHANG in odd situations.\u001b[0m\u001b[0;34m\u001b[0m\u001b[0;34m\u001b[0m\u001b[0m\n",
      "\u001b[0;32m/anaconda3/lib/python3.6/subprocess.py\u001b[0m in \u001b[0;36m_try_wait\u001b[0;34m(self, wait_flags)\u001b[0m\n\u001b[1;32m   1402\u001b[0m             \u001b[0;34m\"\"\"All callers to this function MUST hold self._waitpid_lock.\"\"\"\u001b[0m\u001b[0;34m\u001b[0m\u001b[0m\n\u001b[1;32m   1403\u001b[0m             \u001b[0;32mtry\u001b[0m\u001b[0;34m:\u001b[0m\u001b[0;34m\u001b[0m\u001b[0m\n\u001b[0;32m-> 1404\u001b[0;31m                 \u001b[0;34m(\u001b[0m\u001b[0mpid\u001b[0m\u001b[0;34m,\u001b[0m \u001b[0msts\u001b[0m\u001b[0;34m)\u001b[0m \u001b[0;34m=\u001b[0m \u001b[0mos\u001b[0m\u001b[0;34m.\u001b[0m\u001b[0mwaitpid\u001b[0m\u001b[0;34m(\u001b[0m\u001b[0mself\u001b[0m\u001b[0;34m.\u001b[0m\u001b[0mpid\u001b[0m\u001b[0;34m,\u001b[0m \u001b[0mwait_flags\u001b[0m\u001b[0;34m)\u001b[0m\u001b[0;34m\u001b[0m\u001b[0m\n\u001b[0m\u001b[1;32m   1405\u001b[0m             \u001b[0;32mexcept\u001b[0m \u001b[0mChildProcessError\u001b[0m\u001b[0;34m:\u001b[0m\u001b[0;34m\u001b[0m\u001b[0m\n\u001b[1;32m   1406\u001b[0m                 \u001b[0;31m# This happens if SIGCLD is set to be ignored or waiting\u001b[0m\u001b[0;34m\u001b[0m\u001b[0;34m\u001b[0m\u001b[0m\n",
      "\u001b[0;31mKeyboardInterrupt\u001b[0m: "
     ]
    }
   ],
   "source": [
    "knife_keywords = ['knife', 'knives', 'hunting knife', 'sharp knife']\n",
    "import subprocess\n",
    "for keyword in knife_keywords:\n",
    "    subprocess.call([\"googleimagesdownload\", \"-fjpg\",\"-k\"+keyword, '-l100', \"-odata/knife-or-not/knife\"])"
   ]
  },
  {
   "cell_type": "markdown",
   "metadata": {},
   "source": [
    "### Bigger Dataset\n",
    "\n",
    "Want to create a bigger dataset? \n",
    "\n",
    "In your terminal, download [**Selenium**](https://www.seleniumhq.org/):\n",
    "```\n",
    "sudo easy_install selenium\n",
    "```\n",
    "\n",
    "Then download Chromedriver [here](https://sites.google.com/a/chromium.org/chromedriver/downloads) and put it in the same location as your PATH directory. (Google Chrome must be installed and up to date as well.) \n",
    "\n",
    "For this to work properly, Chromedriver must be *running*. In your terminal, open a new separate window and navigate to your chromedriver location. Then type: `chromedriver` to activate it. You should see something like this: \n",
    "\n",
    "```Starting ChromeDriver 2.39.562713 (dd642283e958a93ebf6891600db055f1f1b4f3b2) on port 9515```\n",
    "\n",
    "With Selenium and Chromedriver, one keyword search can potentially grab thousands of images. In practice, it grabs as many images as Google returns for the keyword, typically around 400-500. So we'll still use various adjectives to amplify our search and return more images."
   ]
  },
  {
   "cell_type": "code",
   "execution_count": null,
   "metadata": {},
   "outputs": [],
   "source": [
    "# Modify the below list to reflect your classes\n",
    "knife_keywords = ['knife','knives','hunting knife','fillet knife','cutting knife','chef knife','sharp knife', 'fishing knife', 'weapon knife', 'machete']\n",
    "\n",
    "import subprocess\n",
    "for keyword in knife_keywords:\n",
    "    subprocess.call([\"googleimagesdownload\", \"-fjpg\",\"-k\" + keyword, '-l1000', \"-odata/knife-or-not/knife\"])"
   ]
  },
  {
   "cell_type": "markdown",
   "metadata": {},
   "source": [
    "# First look at knife pictures"
   ]
  },
  {
   "cell_type": "code",
   "execution_count": 92,
   "metadata": {},
   "outputs": [
    {
     "data": {
      "image/png": "[encoded data removed]",
      "text/plain": [
       "<matplotlib.figure.Figure at 0x10c6d16a0>"
      ]
     },
     "metadata": {},
     "output_type": "display_data"
    }
   ],
   "source": [
    "# Alter the file number to see other images\n",
    "img = plt.imread(f'{PATH}knife/{keywords[0]}/{files[0]}')\n",
    "plt.imshow(img);"
   ]
  },
  {
   "cell_type": "markdown",
   "metadata": {},
   "source": [
    "What does the raw data looks like? A three-dimensional array of RGB pixel levels."
   ]
  },
  {
   "cell_type": "code",
   "execution_count": 91,
   "metadata": {},
   "outputs": [
    {
     "data": {
      "text/plain": [
       "(2728, 2530, 3)"
      ]
     },
     "execution_count": 91,
     "metadata": {},
     "output_type": "execute_result"
    }
   ],
   "source": [
    "img.shape"
   ]
  },
  {
   "cell_type": "code",
   "execution_count": 90,
   "metadata": {},
   "outputs": [
    {
     "data": {
      "text/plain": [
       "array([[[255, 255, 255],\n",
       "        [255, 255, 255],\n",
       "        [255, 255, 255],\n",
       "        [255, 255, 255]],\n",
       "\n",
       "       [[255, 255, 255],\n",
       "        [255, 255, 255],\n",
       "        [255, 255, 255],\n",
       "        [255, 255, 255]],\n",
       "\n",
       "       [[255, 255, 255],\n",
       "        [255, 255, 255],\n",
       "        [255, 255, 255],\n",
       "        [255, 255, 255]],\n",
       "\n",
       "       [[255, 255, 255],\n",
       "        [255, 255, 255],\n",
       "        [255, 255, 255],\n",
       "        [255, 255, 255]]], dtype=uint8)"
      ]
     },
     "execution_count": 90,
     "metadata": {},
     "output_type": "execute_result"
    }
   ],
   "source": [
    "img[:4,:4]"
   ]
  },
  {
   "cell_type": "markdown",
   "metadata": {},
   "source": [
    "# Collecting 'Not Knife' Data\n",
    "\n",
    "If we want our algorithm to recognize the positive example ('this is a knife'), it needs negative examples as well– things that *aren't* knives. \n",
    "\n",
    "But how do we get images that are NOT something? If you search Google Images for '-knife' (bool for NOT knife), there are no results. We cannot image search a negative. So we'll do the next best thing: gathering small batches of **randomized keywords**, thanks to another handy Python [script](https://pypi.org/project/RandomWords/).\n",
    "\n",
    "Open your terminal, navigate to your PATH location and install like so: ```pip install RandomWords```"
   ]
  },
  {
   "cell_type": "code",
   "execution_count": 74,
   "metadata": {},
   "outputs": [
    {
     "data": {
      "text/plain": [
       "3609"
      ]
     },
     "execution_count": 74,
     "metadata": {},
     "output_type": "execute_result"
    }
   ],
   "source": [
    "# See how many knife images we've collected\n",
    "len(os.listdir(f'{PATH}knife'))"
   ]
  },
  {
   "cell_type": "markdown",
   "metadata": {},
   "source": [
    "We're capturing only a few images per keyword, so no need for Selenium and Chromedriver here. Play with the 'count' argument to gather less or more images. This call will retrieve (count x 20) images."
   ]
  },
  {
   "cell_type": "code",
   "execution_count": 77,
   "metadata": {},
   "outputs": [],
   "source": [
    "from random_words import RandomWords\n",
    "\n",
    "rw = RandomWords()\n",
    "not_knife_keywords = rw.random_words(count=150)\n",
    "assert('knife' not in not_knife_keywords)\n",
    "\n",
    "for keyword in randkeywords:\n",
    "    subprocess.call([\"googleimagesdownload\", \"-fjpg\",\"-k\" + keyword, '-l20', \"-odata/knife-or-not/not-knife\"])"
   ]
  },
  {
   "cell_type": "markdown",
   "metadata": {},
   "source": [
    "# Clean up\n",
    "\n",
    "Once we have all of images, a bit of file formatting. "
   ]
  },
  {
   "cell_type": "markdown",
   "metadata": {},
   "source": [
    "*Run the below block only once! If you run it multiple times on the same dataset you may delete things you didn't intend.*"
   ]
  },
  {
   "cell_type": "code",
   "execution_count": 94,
   "metadata": {},
   "outputs": [],
   "source": [
    "# Modify the next line to reflect your classes.\n",
    "classes = ['knife','not_knife']\n",
    "for item in classes:\n",
    "    \n",
    "    destination = f'{PATH}{item}'\n",
    "        \n",
    "    for keyword in f'{item}_keywords':\n",
    "        # move files to parent folder \n",
    "        for file in os.listdir(f'{destination}/{keyword}')\n",
    "            shutil.copy(f'{destination}/{keyword}/{file}', destination)\n",
    "        # remove the keyword folder\n",
    "        shutil.rmtree(f'{destination}/{keyword}')\n",
    "    \n",
    "    # Remove numbers at beginning of filenames\n",
    "    for file in os.listdir(destination):\n",
    "        newname = file.split('. ')[1]\n",
    "        os.rename(f'{PATH}{item}/{file}', f'{PATH}{item}/{newname}')"
   ]
  },
  {
   "cell_type": "code",
   "execution_count": 97,
   "metadata": {},
   "outputs": [
    {
     "data": {
      "text/plain": [
       "['machete-003.jpg',\n",
       " 'knife-throw-1.jpg',\n",
       " 'custom-knives-clip-point-hunt-2.jpg',\n",
       " '12bf892ab4be9134c0d5b12b978d11203594278e_hq.jpg',\n",
       " 'high-grade-damascus-steel-58hrc-swiss-fixed-blade-hunting-knife-21447127178_058ac31b-9ca9-4ca1-8458-29bde1ffa2ff_450x650.jpg']"
      ]
     },
     "execution_count": 97,
     "metadata": {},
     "output_type": "execute_result"
    }
   ],
   "source": [
    "# knife images\n",
    "os.listdir(f'{PATH}knife')[:5]"
   ]
  },
  {
   "cell_type": "code",
   "execution_count": 98,
   "metadata": {},
   "outputs": [
    {
     "data": {
      "text/plain": [
       "['takeoff-migos-dec-2017-billboard-1548.jpg',\n",
       " '1409.jpg',\n",
       " 'thailand-banner-lp.jpg',\n",
       " 'information-systems-assignment.jpg',\n",
       " 'beginners-guide.jpg']"
      ]
     },
     "execution_count": 98,
     "metadata": {},
     "output_type": "execute_result"
    }
   ],
   "source": [
    "# not_knife images\n",
    "os.listdir(f'{PATH}not_knife')[:5]"
   ]
  },
  {
   "cell_type": "markdown",
   "metadata": {},
   "source": [
    "# Create train/validation sets\n",
    "\n",
    "Now that we have all of our images, we'll split them into the train and validation folders we created earlier. A typical approach is a 80/20 split, with 80% of our data devoted to training the algorithm and 20% held back to check our improvement (or lack thereof)."
   ]
  },
  {
   "cell_type": "code",
   "execution_count": 120,
   "metadata": {},
   "outputs": [
    {
     "data": {
      "text/plain": [
       "['not_knife']"
      ]
     },
     "execution_count": 120,
     "metadata": {},
     "output_type": "execute_result"
    }
   ],
   "source": [
    "classes = ['not_knife']\n",
    "classes"
   ]
  },
  {
   "cell_type": "code",
   "execution_count": 121,
   "metadata": {},
   "outputs": [
    {
     "name": "stdout",
     "output_type": "stream",
     "text": [
      "total number of not_knife images: 2801\n"
     ]
    }
   ],
   "source": [
    "for item in classes:\n",
    "    # get total number of images\n",
    "    m = len(os.listdir(f'{PATH}{item}'))\n",
    "    print(f'total number of {item} images: ' + str(m))\n",
    "    \n",
    "    # get random indices totalling 20%\n",
    "    valid_idx = np.random.randint(0, high=(m-(m/5)), size=int(m/5))\n",
    "    \n",
    "    # move randomly indexed files to validation folder\n",
    "    for idx in valid_idx:\n",
    "        file = os.listdir(f'{PATH}{item}')[idx]\n",
    "        src = f'{PATH}{item}/'\n",
    "        dst = f'{PATH}valid/{item}/'\n",
    "        shutil.move(os.path.join(src, file), os.path.join(dst, file))\n",
    "        \n",
    "    # move rest of the images into training folder\n",
    "    for file in os.listdir(f'{PATH}{item}'):\n",
    "        shutil.move(f'{PATH}{item}/{file}', f'{PATH}train/{item}')\n",
    "    \n",
    "    # delete the now empty class folder\n",
    "    shutil.rmtree(f'{PATH}{item}')"
   ]
  },
  {
   "cell_type": "code",
   "execution_count": 123,
   "metadata": {},
   "outputs": [
    {
     "data": {
      "text/plain": [
       "['.DS_Store', '.jpg', 'not_knife', 'knife']"
      ]
     },
     "execution_count": 123,
     "metadata": {},
     "output_type": "execute_result"
    }
   ],
   "source": [
    "os.listdir(f'{PATH}train')"
   ]
  },
  {
   "cell_type": "code",
   "execution_count": 125,
   "metadata": {},
   "outputs": [
    {
     "data": {
      "text/plain": [
       "2067"
      ]
     },
     "execution_count": 125,
     "metadata": {},
     "output_type": "execute_result"
    }
   ],
   "source": [
    "# knife training images\n",
    "len(os.listdir(f'{PATH}train/knife'))"
   ]
  },
  {
   "cell_type": "code",
   "execution_count": 126,
   "metadata": {},
   "outputs": [
    {
     "data": {
      "text/plain": [
       "517"
      ]
     },
     "execution_count": 126,
     "metadata": {},
     "output_type": "execute_result"
    }
   ],
   "source": [
    "# knife validation images\n",
    "len(os.listdir(f'{PATH}valid/knife'))"
   ]
  },
  {
   "cell_type": "code",
   "execution_count": 128,
   "metadata": {},
   "outputs": [
    {
     "data": {
      "text/plain": [
       "2241"
      ]
     },
     "execution_count": 128,
     "metadata": {},
     "output_type": "execute_result"
    }
   ],
   "source": [
    "# not_knife training images\n",
    "len(os.listdir(f'{PATH}train/not_knife'))"
   ]
  },
  {
   "cell_type": "code",
   "execution_count": 129,
   "metadata": {},
   "outputs": [
    {
     "data": {
      "text/plain": [
       "560"
      ]
     },
     "execution_count": 129,
     "metadata": {},
     "output_type": "execute_result"
    }
   ],
   "source": [
    "# not_knife validation images\n",
    "len(os.listdir(f'{PATH}valid/not_knife'))"
   ]
  },
  {
   "cell_type": "markdown",
   "metadata": {},
   "source": [
    "# Conclusion"
   ]
  },
  {
   "cell_type": "markdown",
   "metadata": {},
   "source": [
    "That's it! We now have a training set and validation set, each with a folder of images for each class we want to predict. This same approach applies to multiple image classes as well (say, apples vs. oranges. vs pears).\n",
    "\n",
    "This is the first part of any machine learning project: collecting, exploring and formatting our input data in a way that machines can use. In the next notebook, we'll use this data to create an algorithm that can answer to any image: 'knife' or 'not knife'."
   ]
  }
 ],
 "metadata": {
  "kernelspec": {
   "display_name": "Python [conda env:anaconda3]",
   "language": "python",
   "name": "conda-env-anaconda3-py"
  },
  "language_info": {
   "codemirror_mode": {
    "name": "ipython",
    "version": 3
   },
   "file_extension": ".py",
   "mimetype": "text/x-python",
   "name": "python",
   "nbconvert_exporter": "python",
   "pygments_lexer": "ipython3",
   "version": "3.6.4"
  }
 },
 "nbformat": 4,
 "nbformat_minor": 2
}
